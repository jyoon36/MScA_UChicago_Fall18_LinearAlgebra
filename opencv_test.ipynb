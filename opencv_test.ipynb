{
 "cells": [
  {
   "cell_type": "code",
   "execution_count": 6,
   "metadata": {},
   "outputs": [],
   "source": [
    "import cv2\n",
    "import pandas as pd\n",
    "import os"
   ]
  },
  {
   "cell_type": "code",
   "execution_count": 8,
   "metadata": {},
   "outputs": [],
   "source": [
    "def convertToRGB(img):\n",
    "    return cv2.cvtColor(img, cv2.COLOR_BGR2RGB)"
   ]
  },
  {
   "cell_type": "code",
   "execution_count": 9,
   "metadata": {},
   "outputs": [],
   "source": [
    "def detect_face(img):\n",
    "#convert the test image to gray scale as opencv face detector expects gray images\n",
    "    gray = cv2.cvtColor(img, cv2.COLOR_BGR2GRAY)\n",
    " \n",
    "#load OpenCV face detector, I am using LBP which is fast\n",
    "#there is also a more accurate but slow: Haar classifier\n",
    "    face_cascade = cv2.CascadeClassifier('/Users/jun/Downloads/FaceDetect-master/haarcascade_frontalface_default.xml')\n",
    " \n",
    "#let's detect multiscale images(some images may be closer to camera than others)\n",
    "#result is a list of faces\n",
    "    faces = face_cascade.detectMultiScale(gray, scaleFactor=1.2, minNeighbors=5);\n",
    " \n",
    "\n",
    "    if (len(faces) == 0):\n",
    "        return None, None\n",
    " \n",
    "#under the assumption that there will be only one face,\n",
    "#extract the face area\n",
    "    (x, y, w, h) = faces[0]\n",
    " \n",
    "#return only the face part of the image\n",
    "    return gray[y:y+w, x:x+h], faces[0]"
   ]
  },
  {
   "cell_type": "code",
   "execution_count": 10,
   "metadata": {},
   "outputs": [],
   "source": [
    "import numpy as np\n",
    "import pandas as pd"
   ]
  },
  {
   "cell_type": "code",
   "execution_count": null,
   "metadata": {},
   "outputs": [],
   "source": []
  },
  {
   "cell_type": "code",
   "execution_count": 11,
   "metadata": {},
   "outputs": [],
   "source": [
    "def prepare_training_data(data_folder_path):\n",
    " \n",
    "#------STEP-1--------\n",
    "#get the directories (one directory for each subject) in data folder\n",
    "    dirs = os.listdir(data_folder_path)\n",
    " \n",
    "#list to hold all subject faces\n",
    "    faces = []\n",
    "#list to hold labels for all subjects\n",
    "    labels = []\n",
    "    for dir_name in dirs:\n",
    "        if dir_name.startswith(\".\"):\n",
    "            continue;\n",
    "        label = dir_name\n",
    " \n",
    "#build path of directory containing images for current subject subject\n",
    "#sample subject_dir_path = \"training-data/s1\"\n",
    "        subject_dir_path = data_folder_path + \"/\" + dir_name\n",
    " \n",
    "#get the images names that are inside the given subject directory\n",
    "        subject_images_names = os.listdir(subject_dir_path)\n",
    " \n",
    "#------STEP-3--------\n",
    "#go through each image name, read image, \n",
    "#detect face and add face to list of faces\n",
    "        for image_name in subject_images_names:\n",
    " \n",
    "#ignore system files like .DS_Store\n",
    "            if image_name.startswith(\".\"):\n",
    "                continue;\n",
    " \n",
    "#build image path\n",
    "#sample image path = training-data/s1/1.pgm\n",
    "            image_path = subject_dir_path + \"/\" + image_name\n",
    " \n",
    "#read image\n",
    "            image = cv2.imread(image_path)\n",
    " \n",
    "#display an image window to show the image \n",
    "            cv2.imshow(\"Training on image...\", image)\n",
    "            cv2.waitKey(100)\n",
    " \n",
    "#detect face\n",
    "            face, rect = detect_face(image)\n",
    " \n",
    "#------STEP-4--------\n",
    "#for the purpose of this tutorial\n",
    "#we will ignore faces that are not detected\n",
    "            if face is not None:\n",
    "#add face to list of faces\n",
    "                faces.append(face)\n",
    "#add label for this face\n",
    "                labels.append(label)\n",
    " \n",
    "        cv2.destroyAllWindows()\n",
    "        cv2.waitKey(1)\n",
    "        cv2.destroyAllWindows()\n",
    " \n",
    "    return faces, labels"
   ]
  },
  {
   "cell_type": "code",
   "execution_count": 12,
   "metadata": {},
   "outputs": [
    {
     "name": "stdout",
     "output_type": "stream",
     "text": [
      "Preparing data...\n",
      "Data prepared\n",
      "Total faces:  111\n",
      "Total labels:  111\n"
     ]
    }
   ],
   "source": [
    "#let's first prepare our training data\n",
    "#data will be in two lists of same size\n",
    "#one list will contain all the faces\n",
    "#and the other list will contain respective labels for each face\n",
    "print(\"Preparing data...\")\n",
    "faces, labels = prepare_training_data(\"/Users/jun/Downloads/lfw2\")\n",
    "print(\"Data prepared\")\n",
    "\n",
    "print(\"Total faces: \", len(faces))\n",
    "print(\"Total labels: \", len(labels))"
   ]
  },
  {
   "cell_type": "code",
   "execution_count": 13,
   "metadata": {},
   "outputs": [],
   "source": [
    "face_recognizer = cv2.face.LBPHFaceRecognizer_create()"
   ]
  },
  {
   "cell_type": "code",
   "execution_count": 17,
   "metadata": {},
   "outputs": [],
   "source": [
    "#train our face recognizer of our training faces\n",
    "label_2 = [i for i in range(len(labels))]\n",
    "face_recognizer.train(faces, np.array(label_2))\n",
    "\n",
    "subjects = labels\n"
   ]
  },
  {
   "cell_type": "code",
   "execution_count": 22,
   "metadata": {},
   "outputs": [],
   "source": [
    "def draw_rectangle(img, rect):\n",
    "    (x, y, w, h) = rect\n",
    "    cv2.rectangle(img, (x, y), (x+w, y+h), (0, 255, 0), 2)\n",
    " \n",
    "#function to draw text on give image starting from\n",
    "#passed (x, y) coordinates. \n",
    "def draw_text(img, text, x, y):\n",
    "    cv2.putText(img, text, (x, y), cv2.FONT_HERSHEY_PLAIN, 1.5, (0, 255, 0), 2)    "
   ]
  },
  {
   "cell_type": "code",
   "execution_count": 26,
   "metadata": {},
   "outputs": [],
   "source": [
    "def predict(test_img):\n",
    "#make a copy of the image as we don't want to change original image\n",
    "    img = test_img.copy()\n",
    "#detect face from the image\n",
    "    face, rect = detect_face(img)\n",
    " \n",
    "#predict the image using our face recognizer \n",
    "    label, conf = face_recognizer.predict(face)\n",
    "#get name of respective label returned by face recognizer\n",
    "    label_text = subjects[label]\n",
    "#draw a rectangle around face detected\n",
    "    draw_rectangle(img, rect)\n",
    "#draw name of predicted person\n",
    "    draw_text(img, label_text, rect[0], rect[1]-5)\n",
    "\n",
    "    return img, label\n"
   ]
  },
  {
   "cell_type": "code",
   "execution_count": 30,
   "metadata": {},
   "outputs": [],
   "source": [
    "test_img1 = cv2.imread(\"/Users/jun/Downloads/lfw2/Aaron_Tippin/Aaron_Tippin_0001.jpg\")\n",
    "test_img2 = cv2.imread(\"/Users/jun/stuff/Photo_yoon.png\")\n",
    "\n",
    "predicted_img1, img1_label = predict(test_img1)\n",
    "predicted_img2, img2_label = predict(test_img2)\n",
    "cv2.imshow(subjects[img1_label], predicted_img1)\n",
    "cv2.imshow(subjects[img2_label], predicted_img2)\n",
    "cv2.waitKey(0)\n",
    "cv2.destroyAllWindows()\n"
   ]
  },
  {
   "cell_type": "code",
   "execution_count": 31,
   "metadata": {},
   "outputs": [],
   "source": [
    "cv2.waitKey(1000)\n",
    "cv2.destroyAllWindows()"
   ]
  },
  {
   "cell_type": "code",
   "execution_count": null,
   "metadata": {},
   "outputs": [],
   "source": []
  }
 ],
 "metadata": {
  "kernelspec": {
   "display_name": "Python 3",
   "language": "python",
   "name": "python3"
  },
  "language_info": {
   "codemirror_mode": {
    "name": "ipython",
    "version": 3
   },
   "file_extension": ".py",
   "mimetype": "text/x-python",
   "name": "python",
   "nbconvert_exporter": "python",
   "pygments_lexer": "ipython3",
   "version": "3.6.3"
  }
 },
 "nbformat": 4,
 "nbformat_minor": 2
}
