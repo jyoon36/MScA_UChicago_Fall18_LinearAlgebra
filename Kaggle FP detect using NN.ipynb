{
 "cells": [
  {
   "cell_type": "code",
   "execution_count": 11,
   "metadata": {
    "collapsed": true
   },
   "outputs": [],
   "source": [
    "import matplotlib.pyplot as plt\n",
    "%matplotlib inline\n",
    "from scipy import misc as smi\n",
    "import numpy as np\n",
    "import pandas as pd\n",
    "import os\n",
    "from sklearn.utils import shuffle\n",
    "from sklearn.neural_network import MLPRegressor"
   ]
  },
  {
   "cell_type": "code",
   "execution_count": 12,
   "metadata": {
    "collapsed": true
   },
   "outputs": [],
   "source": [
    "cwd = os.getcwd()\n",
    "train_dir = cwd+'\\training.csv'"
   ]
  },
  {
   "cell_type": "code",
   "execution_count": 13,
   "metadata": {
    "collapsed": true
   },
   "outputs": [],
   "source": [
    "#train_df = pd.read_csv('training.csv',usecols=[0,1,2,3,4,5,6,7,8,9,10,11,12,13,14,15,16,17,18,19,20,21,22,23,24,25,26,27,28,29],index_col = False, header = 0)\n",
    "#Read the kaggle training dataset\n",
    "train_df = pd.read_csv('training.csv',index_col =False,header=0)"
   ]
  },
  {
   "cell_type": "code",
   "execution_count": 10,
   "metadata": {
    "scrolled": true
   },
   "outputs": [
    {
     "data": {
      "text/plain": [
       "array([ 238.,  236.,  237., ...,   70.,   75.,   90.])"
      ]
     },
     "execution_count": 10,
     "metadata": {},
     "output_type": "execute_result"
    }
   ],
   "source": [
    "#X_train = train_df['Image'][0]"
   ]
  },
  {
   "cell_type": "code",
   "execution_count": 14,
   "metadata": {
    "collapsed": true
   },
   "outputs": [],
   "source": [
    "##Currently Image is a string. Split and convert to numeric\n",
    "train_df['Image'] = train_df['Image'].apply(lambda im: np.fromstring(im, sep=' '))"
   ]
  },
  {
   "cell_type": "code",
   "execution_count": 62,
   "metadata": {
    "collapsed": true
   },
   "outputs": [],
   "source": [
    "#im_train = pd.read_csv('training.csv',usecols=[30],index_col = False, header = 0)\n",
    "#train_df['Image']"
   ]
  },
  {
   "cell_type": "code",
   "execution_count": 63,
   "metadata": {
    "collapsed": true
   },
   "outputs": [],
   "source": [
    "cols=None\n",
    "if cols:  # get a subset of columns\n",
    "    train_df = train_df[list(cols) + ['Image']]"
   ]
  },
  {
   "cell_type": "code",
   "execution_count": 64,
   "metadata": {},
   "outputs": [
    {
     "name": "stdout",
     "output_type": "stream",
     "text": [
      "left_eye_center_x            7039\n",
      "left_eye_center_y            7039\n",
      "right_eye_center_x           7036\n",
      "right_eye_center_y           7036\n",
      "left_eye_inner_corner_x      2271\n",
      "left_eye_inner_corner_y      2271\n",
      "left_eye_outer_corner_x      2267\n",
      "left_eye_outer_corner_y      2267\n",
      "right_eye_inner_corner_x     2268\n",
      "right_eye_inner_corner_y     2268\n",
      "right_eye_outer_corner_x     2268\n",
      "right_eye_outer_corner_y     2268\n",
      "left_eyebrow_inner_end_x     2270\n",
      "left_eyebrow_inner_end_y     2270\n",
      "left_eyebrow_outer_end_x     2225\n",
      "left_eyebrow_outer_end_y     2225\n",
      "right_eyebrow_inner_end_x    2270\n",
      "right_eyebrow_inner_end_y    2270\n",
      "right_eyebrow_outer_end_x    2236\n",
      "right_eyebrow_outer_end_y    2236\n",
      "nose_tip_x                   7049\n",
      "nose_tip_y                   7049\n",
      "mouth_left_corner_x          2269\n",
      "mouth_left_corner_y          2269\n",
      "mouth_right_corner_x         2270\n",
      "mouth_right_corner_y         2270\n",
      "mouth_center_top_lip_x       2275\n",
      "mouth_center_top_lip_y       2275\n",
      "mouth_center_bottom_lip_x    7016\n",
      "mouth_center_bottom_lip_y    7016\n",
      "Image                        7049\n",
      "dtype: int64\n"
     ]
    }
   ],
   "source": [
    "print(train_df.count()) "
   ]
  },
  {
   "cell_type": "code",
   "execution_count": 15,
   "metadata": {
    "collapsed": true
   },
   "outputs": [],
   "source": [
    "#Drop columns that dont have all the columns populated \n",
    "train_df = train_df.dropna()"
   ]
  },
  {
   "cell_type": "code",
   "execution_count": 16,
   "metadata": {},
   "outputs": [
    {
     "name": "stdout",
     "output_type": "stream",
     "text": [
      "left_eye_center_x            2140\n",
      "left_eye_center_y            2140\n",
      "right_eye_center_x           2140\n",
      "right_eye_center_y           2140\n",
      "left_eye_inner_corner_x      2140\n",
      "left_eye_inner_corner_y      2140\n",
      "left_eye_outer_corner_x      2140\n",
      "left_eye_outer_corner_y      2140\n",
      "right_eye_inner_corner_x     2140\n",
      "right_eye_inner_corner_y     2140\n",
      "right_eye_outer_corner_x     2140\n",
      "right_eye_outer_corner_y     2140\n",
      "left_eyebrow_inner_end_x     2140\n",
      "left_eyebrow_inner_end_y     2140\n",
      "left_eyebrow_outer_end_x     2140\n",
      "left_eyebrow_outer_end_y     2140\n",
      "right_eyebrow_inner_end_x    2140\n",
      "right_eyebrow_inner_end_y    2140\n",
      "right_eyebrow_outer_end_x    2140\n",
      "right_eyebrow_outer_end_y    2140\n",
      "nose_tip_x                   2140\n",
      "nose_tip_y                   2140\n",
      "mouth_left_corner_x          2140\n",
      "mouth_left_corner_y          2140\n",
      "mouth_right_corner_x         2140\n",
      "mouth_right_corner_y         2140\n",
      "mouth_center_top_lip_x       2140\n",
      "mouth_center_top_lip_y       2140\n",
      "mouth_center_bottom_lip_x    2140\n",
      "mouth_center_bottom_lip_y    2140\n",
      "Image                        2140\n",
      "dtype: int64\n"
     ]
    }
   ],
   "source": [
    "print(train_df.count())"
   ]
  },
  {
   "cell_type": "code",
   "execution_count": 19,
   "metadata": {
    "collapsed": true
   },
   "outputs": [],
   "source": [
    "#Save only image data as X and normalize the pixel data\n",
    "X = np.vstack(train_df['Image'].values) / 255.  # scale pixel values to [0, 1]\n",
    "#X = np.vstack(train_df['Image'].values)  # scale pixel values to [0, 1]\n",
    "X = X.astype(np.float32)"
   ]
  },
  {
   "cell_type": "code",
   "execution_count": 37,
   "metadata": {},
   "outputs": [
    {
     "data": {
      "text/plain": [
       "<matplotlib.image.AxesImage at 0x266100750b8>"
      ]
     },
     "execution_count": 37,
     "metadata": {},
     "output_type": "execute_result"
    },
    {
     "data": {
      "image/png": "[encoded data removed]",
      "text/plain": [
       "<matplotlib.figure.Figure at 0x2660ffb8240>"
      ]
     },
     "metadata": {},
     "output_type": "display_data"
    }
   ],
   "source": [
    "#Plot to validate the image\n",
    "plt.imshow(X[0].reshape((96,96)), cmap = 'gray')"
   ]
  },
  {
   "cell_type": "code",
   "execution_count": 29,
   "metadata": {
    "collapsed": true
   },
   "outputs": [],
   "source": [
    "#Save y as the 15 landmarks (30 points)\n",
    "y = train_df[train_df.columns[:-1]].values\n",
    "#y = (y - 48) / 48  # scale target coordinates to [-1, 1]\n",
    "#X, y = shuffle(X, y, random_state=42)  # shuffle train data\n",
    "y = y.astype(np.float32)"
   ]
  },
  {
   "cell_type": "code",
   "execution_count": 32,
   "metadata": {},
   "outputs": [
    {
     "data": {
      "text/plain": [
       "array([ 66.03356171,  39.00227356,  30.22700691,  36.42167664,\n",
       "        59.58207703,  39.64742279,  73.13034821,  39.96999741,\n",
       "        36.3565712 ,  37.38940048,  23.45287132,  37.38940048,\n",
       "        56.95326233,  29.03364754,  80.22712708,  32.22813797,\n",
       "        40.22760773,  29.00232124,  16.35637856,  29.64747047,\n",
       "        44.42057037,  57.06680298,  61.19530869,  79.97016907,\n",
       "        28.61449623,  77.38899231,  43.312603  ,  72.93545532,\n",
       "        43.13070679,  84.48577118], dtype=float32)"
      ]
     },
     "execution_count": 32,
     "metadata": {},
     "output_type": "execute_result"
    }
   ],
   "source": [
    "(y[0,:])"
   ]
  },
  {
   "cell_type": "code",
   "execution_count": 33,
   "metadata": {},
   "outputs": [
    {
     "name": "stdout",
     "output_type": "stream",
     "text": [
      "X.shape == (2140, 9216); X.min == 0.000; X.max == 1.000\n",
      "y.shape == (2140, 30); y.min == 3.826; y.max == 95.809\n"
     ]
    }
   ],
   "source": [
    "print(\"X.shape == {}; X.min == {:.3f}; X.max == {:.3f}\".format(X.shape, X.min(), X.max()))\n",
    "print(\"y.shape == {}; y.min == {:.3f}; y.max == {:.3f}\".format(y.shape, y.min(), y.max()))"
   ]
  },
  {
   "cell_type": "code",
   "execution_count": 48,
   "metadata": {
    "collapsed": true
   },
   "outputs": [],
   "source": [
    "# Use sklearn NN  having 2 hidden layers of 30 nodes. Need to modify layer counts and nodes in each layer and compute RMSE to determine best model\n",
    "\n",
    "nn = MLPRegressor((30,30))"
   ]
  },
  {
   "cell_type": "code",
   "execution_count": 49,
   "metadata": {},
   "outputs": [
    {
     "data": {
      "text/plain": [
       "MLPRegressor(activation='relu', alpha=0.0001, batch_size='auto', beta_1=0.9,\n",
       "       beta_2=0.999, early_stopping=False, epsilon=1e-08,\n",
       "       hidden_layer_sizes=(30, 30), learning_rate='constant',\n",
       "       learning_rate_init=0.001, max_iter=200, momentum=0.9,\n",
       "       nesterovs_momentum=True, power_t=0.5, random_state=None,\n",
       "       shuffle=True, solver='adam', tol=0.0001, validation_fraction=0.1,\n",
       "       verbose=False, warm_start=False)"
      ]
     },
     "execution_count": 49,
     "metadata": {},
     "output_type": "execute_result"
    }
   ],
   "source": [
    "#Fit the model on training data\n",
    "nn.fit(X,y)"
   ]
  },
  {
   "cell_type": "code",
   "execution_count": 50,
   "metadata": {},
   "outputs": [
    {
     "data": {
      "text/plain": [
       "array([[  93.99163099,   49.56173824,   42.92577314,   52.68312781,\n",
       "          83.40229799,   54.52705451,  100.61746338,   53.46556252,\n",
       "          50.84776164,   51.85103025,   32.58637954,   53.9328356 ,\n",
       "          80.86036203,   41.80635723,  106.8316069 ,   41.7015202 ,\n",
       "          56.1485773 ,   42.9702591 ,   22.81790567,   41.77786775,\n",
       "          65.15700473,   81.65953383,   86.65185256,  106.12139398,\n",
       "          44.92846345,  103.73031565,   65.37496435,  100.27058049,\n",
       "          65.44932833,  115.5883733 ],\n",
       "       [  57.88141334,   33.19015964,   27.86639233,   33.0678412 ,\n",
       "          54.34145071,   32.54747437,   67.24158123,   33.266345  ,\n",
       "          34.21005847,   34.35016937,   19.57384464,   32.99309228,\n",
       "          48.99629427,   25.18187257,   70.02641915,   24.94419081,\n",
       "          35.08781394,   27.6095671 ,   14.14357714,   25.22539917,\n",
       "          45.23657777,   50.33165528,   58.33749499,   68.74834185,\n",
       "          30.96712808,   65.66833856,   43.1452598 ,   65.18287158,\n",
       "          42.96596548,   72.30949187]])"
      ]
     },
     "execution_count": 50,
     "metadata": {},
     "output_type": "execute_result"
    }
   ],
   "source": [
    "#Currently predicting on training data itself. Need to use test dataset here\n",
    "nn.predict(X[0:2])\n",
    "#X[0:2].shape"
   ]
  },
  {
   "cell_type": "code",
   "execution_count": 52,
   "metadata": {},
   "outputs": [
    {
     "data": {
      "image/png": "[encoded data removed]",
      "text/plain": [
       "<matplotlib.figure.Figure at 0x26610a1a550>"
      ]
     },
     "metadata": {},
     "output_type": "display_data"
    }
   ],
   "source": [
    "#Plotttig image with 2 points to verify\n",
    "#im = plt.imread(image_name)\n",
    "implot = plt.imshow(X[1].reshape((96,96)), cmap = 'gray')\n",
    "\n",
    "# # put a blue dot at (10, 20)\n",
    "# plt.scatter([90.62], [52.24],[44],[50.27])\n",
    "\n",
    "# put a red dot, size 40, at 2 locations:\n",
    "plt.scatter(x=[57.88, 27.866], y=[33.190, 33.06], c='r', s=40)\n",
    "\n",
    "plt.show()"
   ]
  },
  {
   "cell_type": "code",
   "execution_count": 46,
   "metadata": {},
   "outputs": [
    {
     "data": {
      "text/plain": [
       "array([ 64.33293915,  34.97007751,  29.94927597,  33.44871521,\n",
       "        58.85617065,  35.27434921,  70.72272491,  36.18716431,\n",
       "        36.03472519,  34.3615303 ,  24.47251129,  33.14444351,\n",
       "        53.98740387,  28.27594948,  78.63421631,  30.40592384,\n",
       "        42.72885132,  26.14604187,  16.86536217,  27.05885887,\n",
       "        48.20629883,  55.66093445,  56.42144775,  76.35199738,\n",
       "        35.12238312,  76.04766083,  46.68459702,  70.26655579,\n",
       "        45.46791458,  85.4801712 ], dtype=float32)"
      ]
     },
     "execution_count": 46,
     "metadata": {},
     "output_type": "execute_result"
    }
   ],
   "source": [
    "y[1]"
   ]
  },
  {
   "cell_type": "code",
   "execution_count": null,
   "metadata": {
    "collapsed": true
   },
   "outputs": [],
   "source": []
  }
 ],
 "metadata": {
  "kernelspec": {
   "display_name": "Python 3",
   "language": "python",
   "name": "python3"
  },
  "language_info": {
   "codemirror_mode": {
    "name": "ipython",
    "version": 3
   },
   "file_extension": ".py",
   "mimetype": "text/x-python",
   "name": "python",
   "nbconvert_exporter": "python",
   "pygments_lexer": "ipython3",
   "version": "3.6.3"
  }
 },
 "nbformat": 4,
 "nbformat_minor": 2
}
