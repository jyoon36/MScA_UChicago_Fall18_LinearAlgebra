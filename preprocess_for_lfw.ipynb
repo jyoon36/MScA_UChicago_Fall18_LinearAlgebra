{
 "cells": [
  {
   "cell_type": "code",
   "execution_count": null,
   "metadata": {
    "collapsed": true
   },
   "outputs": [],
   "source": [
    "%matplotlib inline\n",
    "\n",
    "# Imports\n",
    "import glob\n",
    "import os\n",
    "\n",
    "#Packages\n",
    "import numpy\n",
    "import PIL\n",
    "\n",
    "# Squash deprecation warnings \n",
    "import warnings\n",
    "warnings.filterwarnings(\"ignore\", category=DeprecationWarning) "
   ]
  },
  {
   "cell_type": "code",
   "execution_count": null,
   "metadata": {
    "collapsed": true
   },
   "outputs": [],
   "source": [
    "# Setup LFW parameters\n",
    "lfw_width = 62\n",
    "lfw_height = 47"
   ]
  },
  {
   "cell_type": "markdown",
   "metadata": {},
   "source": [
    "## Append a directory of new images to LFW\n",
    "\n",
    "*NOTE*: Name your files with the following format: NAME_#.jpg\n",
    "\n",
    "    where NAME will be mapped to the target label and #\n",
    "    should be an integer to distinguish multiple images of the\n",
    "    same subject."
   ]
  },
  {
   "cell_type": "code",
   "execution_count": null,
   "metadata": {
    "collapsed": true
   },
   "outputs": [],
   "source": [
    "# Load image\n",
    "def convert_to_lfw(image_file_name, width=62, height=47):\n",
    "    \"\"\"\n",
    "    Convert a given PIL-compatible file to an LFW grayscale\n",
    "    image with the requested width and height.\n",
    "    \"\"\"\n",
    "    # Load, grayscale, downscale\n",
    "    image = PIL.Image.open(image_file_name)\\\n",
    "        .convert(mode=\"L\")\\\n",
    "        .resize((height, width), PIL.Image.LANCZOS)\n",
    "    \n",
    "    # Return 1D np array\n",
    "    return numpy.array(image).ravel(order=\"C\")\n",
    "\n",
    "\n",
    "def load_lfw_directory(path, width=62, height=47):\n",
    "    \"\"\"\n",
    "    Load all JPG files from given path into LFW\n",
    "    format np array.\n",
    "    \"\"\"\n",
    "    # Iterate through all files\n",
    "    lfw_array = numpy.array(())\n",
    "    lfw_labels = []\n",
    "    for file_name in os.listdir('C:/Users/andrew.baker/Desktop/LFW_Update_Photos'):\n",
    "        if file_name.lower().endswith(\"jpg\") or file_name.lower().endswith(\"jpeg\"):\n",
    "            lfw_labels.append(file_name.split(\"_\")[0])\n",
    "            if lfw_array.shape[0] == 0:\n",
    "                lfw_array = convert_to_lfw(os.path.join(path,  file_name), width=width, height=height)\n",
    "            else:\n",
    "                lfw_array = numpy.vstack([lfw_array, convert_to_lfw(os.path.join(path, file_name),\n",
    "                                                                    width=width, height=height)])\n",
    "    \n",
    "    # Return\n",
    "    return lfw_array, lfw_labels"
   ]
  },
  {
   "cell_type": "code",
   "execution_count": null,
   "metadata": {},
   "outputs": [],
   "source": [
    "# Get LFW dataset\n",
    "import sklearn.datasets\n",
    "lfw_people = sklearn.datasets.fetch_lfw_people()\n",
    "\n",
    "# n_samples, images height & width\n",
    "n_samples, h, w = lfw_people.images.shape\n",
    "\n",
    "# Get feature matrix and target vector\n",
    "lfw_feature_matrix = lfw_people.data\n",
    "lfw_target_vector = lfw_people.target_names"
   ]
  },
  {
   "cell_type": "code",
   "execution_count": null,
   "metadata": {},
   "outputs": [],
   "source": [
    "# Merge new data with LFW\n",
    "new_image_matrix, new_image_labels = load_lfw_directory(\"./\")\n",
    "project_feature_matrix = numpy.vstack([lfw_feature_matrix,\n",
    "                                      new_image_matrix])\n",
    "print(\"Project feature shape: {0}\".format(project_feature_matrix.shape))\n",
    "\n",
    "# Update the target name mapping to append our new labels at the end of the list\n",
    "project_target_names = lfw_people.target_names.tolist()\n",
    "project_target_names.extend(set(new_image_labels))\n",
    "\n",
    "# Update values for the integer target data\n",
    "project_target_vector = lfw_people.target.tolist()\n",
    "project_target_vector.extend([project_target_names.index(l) for l in new_image_labels])\n",
    "print(\"Project target shape: {0}\".format(len(project_target_vector)))"
   ]
  },
  {
   "cell_type": "code",
   "execution_count": null,
   "metadata": {
    "collapsed": true
   },
   "outputs": [],
   "source": []
  }
 ],
 "metadata": {
  "kernelspec": {
   "display_name": "Python 3",
   "language": "python",
   "name": "python3"
  },
  "language_info": {
   "codemirror_mode": {
    "name": "ipython",
    "version": 3
   },
   "file_extension": ".py",
   "mimetype": "text/x-python",
   "name": "python",
   "nbconvert_exporter": "python",
   "pygments_lexer": "ipython3",
   "version": "3.6.1"
  }
 },
 "nbformat": 4,
 "nbformat_minor": 2
}
